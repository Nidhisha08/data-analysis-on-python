{
 "cells": [
  {
   "cell_type": "markdown",
   "id": "1ea3848f",
   "metadata": {},
   "source": [
    "## Sales of items in different place"
   ]
  },
  {
   "cell_type": "code",
   "execution_count": 163,
   "id": "254e04ef",
   "metadata": {},
   "outputs": [],
   "source": [
    "import numpy as np\n",
    "import pandas as pd\n",
    "%matplotlib inline\n",
    "import matplotlib.pyplot as plt\n",
    "import re"
   ]
  },
  {
   "cell_type": "code",
   "execution_count": 164,
   "id": "6f68c2cb",
   "metadata": {},
   "outputs": [
    {
     "data": {
      "text/html": [
       "<div>\n",
       "<style scoped>\n",
       "    .dataframe tbody tr th:only-of-type {\n",
       "        vertical-align: middle;\n",
       "    }\n",
       "\n",
       "    .dataframe tbody tr th {\n",
       "        vertical-align: top;\n",
       "    }\n",
       "\n",
       "    .dataframe thead th {\n",
       "        text-align: right;\n",
       "    }\n",
       "</style>\n",
       "<table border=\"1\" class=\"dataframe\">\n",
       "  <thead>\n",
       "    <tr style=\"text-align: right;\">\n",
       "      <th></th>\n",
       "      <th>DATE</th>\n",
       "      <th>DESCRIPTION</th>\n",
       "      <th>UNIT</th>\n",
       "      <th>PLACE</th>\n",
       "    </tr>\n",
       "  </thead>\n",
       "  <tbody>\n",
       "    <tr>\n",
       "      <th>0</th>\n",
       "      <td>2022-04-01</td>\n",
       "      <td>Beef</td>\n",
       "      <td>1</td>\n",
       "      <td>Kolenchery</td>\n",
       "    </tr>\n",
       "    <tr>\n",
       "      <th>1</th>\n",
       "      <td>2022-04-01</td>\n",
       "      <td>Fish</td>\n",
       "      <td>1</td>\n",
       "      <td>Kolenchery</td>\n",
       "    </tr>\n",
       "    <tr>\n",
       "      <th>2</th>\n",
       "      <td>2022-04-03</td>\n",
       "      <td>Beef</td>\n",
       "      <td>2</td>\n",
       "      <td>Tripunithura</td>\n",
       "    </tr>\n",
       "    <tr>\n",
       "      <th>3</th>\n",
       "      <td>2022-04-05</td>\n",
       "      <td>Prawns</td>\n",
       "      <td>1</td>\n",
       "      <td>Bangalore</td>\n",
       "    </tr>\n",
       "    <tr>\n",
       "      <th>4</th>\n",
       "      <td>2022-04-06</td>\n",
       "      <td>Dates</td>\n",
       "      <td>1</td>\n",
       "      <td>Mangalore</td>\n",
       "    </tr>\n",
       "  </tbody>\n",
       "</table>\n",
       "</div>"
      ],
      "text/plain": [
       "        DATE DESCRIPTION  UNIT          PLACE\n",
       "0 2022-04-01        Beef     1    Kolenchery \n",
       "1 2022-04-01        Fish     1    Kolenchery \n",
       "2 2022-04-03        Beef     2  Tripunithura \n",
       "3 2022-04-05      Prawns     1     Bangalore \n",
       "4 2022-04-06       Dates     1      Mangalore"
      ]
     },
     "execution_count": 164,
     "metadata": {},
     "output_type": "execute_result"
    }
   ],
   "source": [
    "data=pd.read_excel(\"C:/nidhisha/intership/data_visul.xlsx\")\n",
    "data.head()"
   ]
  },
  {
   "cell_type": "code",
   "execution_count": 165,
   "id": "a486c964",
   "metadata": {},
   "outputs": [
    {
     "data": {
      "text/plain": [
       "(111, 4)"
      ]
     },
     "execution_count": 165,
     "metadata": {},
     "output_type": "execute_result"
    }
   ],
   "source": [
    "data.shape"
   ]
  },
  {
   "cell_type": "code",
   "execution_count": 166,
   "id": "3592b55f",
   "metadata": {},
   "outputs": [
    {
     "data": {
      "text/plain": [
       "DATE           datetime64[ns]\n",
       "DESCRIPTION            object\n",
       "UNIT                    int64\n",
       "PLACE                  object\n",
       "dtype: object"
      ]
     },
     "execution_count": 166,
     "metadata": {},
     "output_type": "execute_result"
    }
   ],
   "source": [
    "data.dtypes"
   ]
  },
  {
   "cell_type": "code",
   "execution_count": 167,
   "id": "aa6ca751",
   "metadata": {},
   "outputs": [
    {
     "data": {
      "text/plain": [
       "DATE           0\n",
       "DESCRIPTION    0\n",
       "UNIT           0\n",
       "PLACE          8\n",
       "dtype: int64"
      ]
     },
     "execution_count": 167,
     "metadata": {},
     "output_type": "execute_result"
    }
   ],
   "source": [
    "#checking the missing value\n",
    "data.isnull().sum()"
   ]
  },
  {
   "cell_type": "code",
   "execution_count": 168,
   "id": "b3d39d64",
   "metadata": {},
   "outputs": [
    {
     "data": {
      "text/plain": [
       "Malappuram                  10\n",
       "Noida - UP                   6\n",
       "Eloor                        6\n",
       "Kottayam                     6\n",
       "Mumbai                       6\n",
       "United States                5\n",
       "Kochi                        5\n",
       "To Kottayam                  5\n",
       "Eroor - Vytila               5\n",
       "Pathanamthitta               4\n",
       "Nettoor                      4\n",
       "Bangalore to US              4\n",
       "Kadavanthra                  3\n",
       "Tripunithura                 3\n",
       "Kolenchery                   3\n",
       "Vazhakala                    3\n",
       "Pune                         3\n",
       "Kanjiramttom                 2\n",
       "Jabalpur - Madhyapradesh     2\n",
       "Chennai                      2\n",
       "Kumily                       2\n",
       "Mangalore - Ullal            2\n",
       "Kakkanad                     2\n",
       "Thrissur/ Guruvayoor         1\n",
       "Bangalore                    1\n",
       "malappuram                   1\n",
       "Bangalore                    1\n",
       "Mangalore                    1\n",
       "Aroor                        1\n",
       "Tripunithurra                1\n",
       "Tripunithura                 1\n",
       "Padappai- Tamilnadu          1\n",
       "kadavanthra                  1\n",
       "Name: PLACE, dtype: int64"
      ]
     },
     "execution_count": 168,
     "metadata": {},
     "output_type": "execute_result"
    }
   ],
   "source": [
    "# counting the number of the place.\n",
    "data[\"PLACE\"].value_counts()"
   ]
  },
  {
   "cell_type": "code",
   "execution_count": 169,
   "id": "c5541a11",
   "metadata": {},
   "outputs": [
    {
     "data": {
      "text/plain": [
       "Beef          32\n",
       "Prawns        31\n",
       "Fish          13\n",
       "Mango         10\n",
       "Lemon          9\n",
       "King Fish      7\n",
       "Dates          3\n",
       "Dryfruits      3\n",
       "Dry fruits     2\n",
       "Kadumanga      1\n",
       "Name: DESCRIPTION, dtype: int64"
      ]
     },
     "execution_count": 169,
     "metadata": {},
     "output_type": "execute_result"
    }
   ],
   "source": [
    "# counting the number of description.\n",
    "data[\"DESCRIPTION\"].value_counts()"
   ]
  },
  {
   "cell_type": "markdown",
   "id": "2064afbf",
   "metadata": {},
   "source": [
    "### cleaning the data"
   ]
  },
  {
   "cell_type": "code",
   "execution_count": 170,
   "id": "aef1287e",
   "metadata": {},
   "outputs": [],
   "source": [
    "# using capitalize function which return a copy of the string with first letter capitalized.\n",
    "data[\"PLACE\"]=data[\"PLACE\"].str.capitalize()"
   ]
  },
  {
   "cell_type": "code",
   "execution_count": 171,
   "id": "fe2702d1",
   "metadata": {},
   "outputs": [],
   "source": [
    "#correcting the mistake in place column, description column. \n",
    "def correcting_mistake(col_name,place,change_name):\n",
    "    data[col_name]=data[col_name].replace(place,change_name)\n",
    "    return data[col_name]"
   ]
  },
  {
   "cell_type": "code",
   "execution_count": 172,
   "id": "182d80d7",
   "metadata": {},
   "outputs": [
    {
     "data": {
      "text/plain": [
       "0        Kolenchery \n",
       "1        Kolenchery \n",
       "2      Tripunithura \n",
       "3         Bangalore \n",
       "4          Mangalore\n",
       "           ...      \n",
       "106              NaN\n",
       "107              NaN\n",
       "108              NaN\n",
       "109              NaN\n",
       "110              NaN\n",
       "Name: PLACE, Length: 111, dtype: object"
      ]
     },
     "execution_count": 172,
     "metadata": {},
     "output_type": "execute_result"
    }
   ],
   "source": [
    "correcting_mistake(\"PLACE\",\"To kottayam\",\"Kottayam\")\n",
    "correcting_mistake(\"PLACE\",\"Tripunithurra\",\"Tripunithura\")\n",
    "correcting_mistake(\"PLACE\",\"Mangalore - ullal\",\"Mangalore\")\n",
    "correcting_mistake(\"PLACE\",\"Eroor - vytila\",\"Eloor\")"
   ]
  },
  {
   "cell_type": "code",
   "execution_count": 173,
   "id": "d1638874",
   "metadata": {},
   "outputs": [
    {
     "data": {
      "text/plain": [
       "DATE           0\n",
       "DESCRIPTION    0\n",
       "UNIT           0\n",
       "PLACE          8\n",
       "dtype: int64"
      ]
     },
     "execution_count": 173,
     "metadata": {},
     "output_type": "execute_result"
    }
   ],
   "source": [
    "data.isnull().sum()"
   ]
  },
  {
   "cell_type": "code",
   "execution_count": 174,
   "id": "c271e549",
   "metadata": {},
   "outputs": [
    {
     "data": {
      "text/plain": [
       "0            Beef\n",
       "1            Fish\n",
       "2            Beef\n",
       "3          Prawns\n",
       "4      Dry fruits\n",
       "          ...    \n",
       "106         Lemon\n",
       "107          Beef\n",
       "108          Beef\n",
       "109        Prawns\n",
       "110         Lemon\n",
       "Name: DESCRIPTION, Length: 111, dtype: object"
      ]
     },
     "execution_count": 174,
     "metadata": {},
     "output_type": "execute_result"
    }
   ],
   "source": [
    "correcting_mistake(\"DESCRIPTION\",\"Dryfruits\",\"Dry fruits\")\n",
    "correcting_mistake(\"DESCRIPTION\",\"Dates\",\"Dry fruits\")\n",
    "correcting_mistake(\"DESCRIPTION\",\"King Fish\",\"Fish\")"
   ]
  },
  {
   "cell_type": "code",
   "execution_count": 175,
   "id": "295ba7d6",
   "metadata": {},
   "outputs": [
    {
     "data": {
      "text/plain": [
       "DATE           0\n",
       "DESCRIPTION    0\n",
       "UNIT           0\n",
       "PLACE          8\n",
       "dtype: int64"
      ]
     },
     "execution_count": 175,
     "metadata": {},
     "output_type": "execute_result"
    }
   ],
   "source": [
    "data.isnull().sum()"
   ]
  },
  {
   "cell_type": "code",
   "execution_count": 176,
   "id": "54b15367",
   "metadata": {},
   "outputs": [
    {
     "data": {
      "text/plain": [
       "Malappuram                  11\n",
       "Kottayam                    11\n",
       "Eloor                       11\n",
       "Noida - up                   6\n",
       "Mumbai                       6\n",
       "Kochi                        5\n",
       "United states                5\n",
       "Kadavanthra                  4\n",
       "Tripunithura                 4\n",
       "Pathanamthitta               4\n",
       "Bangalore to us              4\n",
       "Nettoor                      4\n",
       "Kolenchery                   3\n",
       "Pune                         3\n",
       "Mangalore                    3\n",
       "Vazhakala                    3\n",
       "Kanjiramttom                 2\n",
       "Jabalpur - madhyapradesh     2\n",
       "Chennai                      2\n",
       "Kumily                       2\n",
       "Kakkanad                     2\n",
       "Tripunithura                 1\n",
       "Padappai- tamilnadu          1\n",
       "Bangalore                    1\n",
       "Aroor                        1\n",
       "Thrissur/ guruvayoor         1\n",
       "Bangalore                    1\n",
       "Name: PLACE, dtype: int64"
      ]
     },
     "execution_count": 176,
     "metadata": {},
     "output_type": "execute_result"
    }
   ],
   "source": [
    "# checking the value,after correcting the mistake\n",
    "data[\"PLACE\"].value_counts()"
   ]
  },
  {
   "cell_type": "code",
   "execution_count": 177,
   "id": "f35cf939",
   "metadata": {},
   "outputs": [
    {
     "data": {
      "text/plain": [
       "Beef          32\n",
       "Prawns        31\n",
       "Fish          20\n",
       "Mango         10\n",
       "Lemon          9\n",
       "Dry fruits     8\n",
       "Kadumanga      1\n",
       "Name: DESCRIPTION, dtype: int64"
      ]
     },
     "execution_count": 177,
     "metadata": {},
     "output_type": "execute_result"
    }
   ],
   "source": [
    "data[\"DESCRIPTION\"].value_counts()"
   ]
  },
  {
   "cell_type": "code",
   "execution_count": 178,
   "id": "d73796c2",
   "metadata": {},
   "outputs": [],
   "source": [
    "# filling the missing value with mode corresponding to the description in each \"place\" cloumn.\n",
    "data[\"PLACE\"]=data[\"PLACE\"].fillna(data.groupby([\"DESCRIPTION\"])[\"PLACE\"].transform(lambda x:pd.Series.mode(x)[0]))"
   ]
  },
  {
   "cell_type": "code",
   "execution_count": 179,
   "id": "27aac6d7",
   "metadata": {},
   "outputs": [
    {
     "data": {
      "text/html": [
       "<div>\n",
       "<style scoped>\n",
       "    .dataframe tbody tr th:only-of-type {\n",
       "        vertical-align: middle;\n",
       "    }\n",
       "\n",
       "    .dataframe tbody tr th {\n",
       "        vertical-align: top;\n",
       "    }\n",
       "\n",
       "    .dataframe thead th {\n",
       "        text-align: right;\n",
       "    }\n",
       "</style>\n",
       "<table border=\"1\" class=\"dataframe\">\n",
       "  <thead>\n",
       "    <tr style=\"text-align: right;\">\n",
       "      <th></th>\n",
       "      <th>DATE</th>\n",
       "      <th>DESCRIPTION</th>\n",
       "      <th>UNIT</th>\n",
       "      <th>PLACE</th>\n",
       "    </tr>\n",
       "  </thead>\n",
       "  <tbody>\n",
       "    <tr>\n",
       "      <th>4</th>\n",
       "      <td>2022-04-06</td>\n",
       "      <td>Dry fruits</td>\n",
       "      <td>1</td>\n",
       "      <td>Mangalore</td>\n",
       "    </tr>\n",
       "    <tr>\n",
       "      <th>58</th>\n",
       "      <td>2022-05-19</td>\n",
       "      <td>Beef</td>\n",
       "      <td>1</td>\n",
       "      <td>Mangalore</td>\n",
       "    </tr>\n",
       "    <tr>\n",
       "      <th>59</th>\n",
       "      <td>2022-05-19</td>\n",
       "      <td>Beef</td>\n",
       "      <td>1</td>\n",
       "      <td>Mangalore</td>\n",
       "    </tr>\n",
       "  </tbody>\n",
       "</table>\n",
       "</div>"
      ],
      "text/plain": [
       "         DATE DESCRIPTION  UNIT      PLACE\n",
       "4  2022-04-06  Dry fruits     1  Mangalore\n",
       "58 2022-05-19        Beef     1  Mangalore\n",
       "59 2022-05-19        Beef     1  Mangalore"
      ]
     },
     "execution_count": 179,
     "metadata": {},
     "output_type": "execute_result"
    }
   ],
   "source": [
    "# here we obseverd that date,descrpition,place values are same,so megering the row and adding the unit.\n",
    "data[data[\"PLACE\"]==\"Mangalore\"]"
   ]
  },
  {
   "cell_type": "code",
   "execution_count": 180,
   "id": "2d82ab34",
   "metadata": {},
   "outputs": [],
   "source": [
    "data=data.groupby([\"DATE\",\"DESCRIPTION\",\"PLACE\"],as_index=False).agg({\"DATE\":\"first\",\"DESCRIPTION\":\"first\",\"UNIT\":\"sum\",\"PLACE\":\"first\"})\n"
   ]
  },
  {
   "cell_type": "code",
   "execution_count": 181,
   "id": "dc12dc2c",
   "metadata": {},
   "outputs": [
    {
     "data": {
      "text/html": [
       "<div>\n",
       "<style scoped>\n",
       "    .dataframe tbody tr th:only-of-type {\n",
       "        vertical-align: middle;\n",
       "    }\n",
       "\n",
       "    .dataframe tbody tr th {\n",
       "        vertical-align: top;\n",
       "    }\n",
       "\n",
       "    .dataframe thead th {\n",
       "        text-align: right;\n",
       "    }\n",
       "</style>\n",
       "<table border=\"1\" class=\"dataframe\">\n",
       "  <thead>\n",
       "    <tr style=\"text-align: right;\">\n",
       "      <th></th>\n",
       "      <th>DATE</th>\n",
       "      <th>DESCRIPTION</th>\n",
       "      <th>UNIT</th>\n",
       "      <th>PLACE</th>\n",
       "    </tr>\n",
       "  </thead>\n",
       "  <tbody>\n",
       "    <tr>\n",
       "      <th>4</th>\n",
       "      <td>2022-04-06</td>\n",
       "      <td>Dry fruits</td>\n",
       "      <td>1</td>\n",
       "      <td>Mangalore</td>\n",
       "    </tr>\n",
       "    <tr>\n",
       "      <th>60</th>\n",
       "      <td>2022-05-19</td>\n",
       "      <td>Beef</td>\n",
       "      <td>2</td>\n",
       "      <td>Mangalore</td>\n",
       "    </tr>\n",
       "  </tbody>\n",
       "</table>\n",
       "</div>"
      ],
      "text/plain": [
       "         DATE DESCRIPTION  UNIT      PLACE\n",
       "4  2022-04-06  Dry fruits     1  Mangalore\n",
       "60 2022-05-19        Beef     2  Mangalore"
      ]
     },
     "execution_count": 181,
     "metadata": {},
     "output_type": "execute_result"
    }
   ],
   "source": [
    "data[data[\"PLACE\"]==\"Mangalore\"]"
   ]
  },
  {
   "cell_type": "code",
   "execution_count": 182,
   "id": "fa8bd2fc",
   "metadata": {},
   "outputs": [
    {
     "data": {
      "text/plain": [
       "DATE           0\n",
       "DESCRIPTION    0\n",
       "UNIT           0\n",
       "PLACE          0\n",
       "dtype: int64"
      ]
     },
     "execution_count": 182,
     "metadata": {},
     "output_type": "execute_result"
    }
   ],
   "source": [
    "data.isnull().sum()"
   ]
  },
  {
   "cell_type": "code",
   "execution_count": 183,
   "id": "5f4d5a17",
   "metadata": {},
   "outputs": [
    {
     "data": {
      "text/plain": [
       "(103, 4)"
      ]
     },
     "execution_count": 183,
     "metadata": {},
     "output_type": "execute_result"
    }
   ],
   "source": [
    "data.shape"
   ]
  },
  {
   "cell_type": "code",
   "execution_count": 184,
   "id": "23cafa5c",
   "metadata": {},
   "outputs": [
    {
     "data": {
      "text/plain": [
       "Malappuram                  13\n",
       "Eloor                       13\n",
       "Kottayam                    11\n",
       "Noida - up                   6\n",
       "Kochi                        5\n",
       "Bangalore to us              5\n",
       "Tripunithura                 4\n",
       "Pathanamthitta               4\n",
       "United states                4\n",
       "Nettoor                      4\n",
       "Mumbai                       4\n",
       "Vazhakala                    3\n",
       "Kolenchery                   3\n",
       "Pune                         3\n",
       "Kadavanthra                  3\n",
       "Kanjiramttom                 2\n",
       "Jabalpur - madhyapradesh     2\n",
       "Chennai                      2\n",
       "Kumily                       2\n",
       "Mangalore                    2\n",
       "Kakkanad                     2\n",
       "Tripunithura                 1\n",
       "Padappai- tamilnadu          1\n",
       "Aroor                        1\n",
       "Bangalore                    1\n",
       "Thrissur/ guruvayoor         1\n",
       "Bangalore                    1\n",
       "Name: PLACE, dtype: int64"
      ]
     },
     "execution_count": 184,
     "metadata": {},
     "output_type": "execute_result"
    }
   ],
   "source": [
    "data[\"PLACE\"].value_counts()"
   ]
  },
  {
   "cell_type": "code",
   "execution_count": 185,
   "id": "1d96a3e1",
   "metadata": {},
   "outputs": [
    {
     "data": {
      "text/html": [
       "<div>\n",
       "<style scoped>\n",
       "    .dataframe tbody tr th:only-of-type {\n",
       "        vertical-align: middle;\n",
       "    }\n",
       "\n",
       "    .dataframe tbody tr th {\n",
       "        vertical-align: top;\n",
       "    }\n",
       "\n",
       "    .dataframe thead th {\n",
       "        text-align: right;\n",
       "    }\n",
       "</style>\n",
       "<table border=\"1\" class=\"dataframe\">\n",
       "  <thead>\n",
       "    <tr style=\"text-align: right;\">\n",
       "      <th></th>\n",
       "      <th>DATE</th>\n",
       "      <th>DESCRIPTION</th>\n",
       "      <th>UNIT</th>\n",
       "      <th>PLACE</th>\n",
       "    </tr>\n",
       "  </thead>\n",
       "  <tbody>\n",
       "    <tr>\n",
       "      <th>0</th>\n",
       "      <td>2022-04-01</td>\n",
       "      <td>Beef</td>\n",
       "      <td>1</td>\n",
       "      <td>Kolenchery</td>\n",
       "    </tr>\n",
       "    <tr>\n",
       "      <th>1</th>\n",
       "      <td>2022-04-01</td>\n",
       "      <td>Fish</td>\n",
       "      <td>1</td>\n",
       "      <td>Kolenchery</td>\n",
       "    </tr>\n",
       "    <tr>\n",
       "      <th>2</th>\n",
       "      <td>2022-04-03</td>\n",
       "      <td>Beef</td>\n",
       "      <td>2</td>\n",
       "      <td>Tripunithura</td>\n",
       "    </tr>\n",
       "    <tr>\n",
       "      <th>3</th>\n",
       "      <td>2022-04-05</td>\n",
       "      <td>Prawns</td>\n",
       "      <td>1</td>\n",
       "      <td>Bangalore</td>\n",
       "    </tr>\n",
       "    <tr>\n",
       "      <th>4</th>\n",
       "      <td>2022-04-06</td>\n",
       "      <td>Dry fruits</td>\n",
       "      <td>1</td>\n",
       "      <td>Mangalore</td>\n",
       "    </tr>\n",
       "    <tr>\n",
       "      <th>...</th>\n",
       "      <td>...</td>\n",
       "      <td>...</td>\n",
       "      <td>...</td>\n",
       "      <td>...</td>\n",
       "    </tr>\n",
       "    <tr>\n",
       "      <th>98</th>\n",
       "      <td>2022-07-05</td>\n",
       "      <td>Prawns</td>\n",
       "      <td>4</td>\n",
       "      <td>Malappuram</td>\n",
       "    </tr>\n",
       "    <tr>\n",
       "      <th>99</th>\n",
       "      <td>2022-07-08</td>\n",
       "      <td>Beef</td>\n",
       "      <td>1</td>\n",
       "      <td>Eloor</td>\n",
       "    </tr>\n",
       "    <tr>\n",
       "      <th>100</th>\n",
       "      <td>2022-07-15</td>\n",
       "      <td>Beef</td>\n",
       "      <td>1</td>\n",
       "      <td>Eloor</td>\n",
       "    </tr>\n",
       "    <tr>\n",
       "      <th>101</th>\n",
       "      <td>2022-07-15</td>\n",
       "      <td>Lemon</td>\n",
       "      <td>1</td>\n",
       "      <td>Bangalore to us</td>\n",
       "    </tr>\n",
       "    <tr>\n",
       "      <th>102</th>\n",
       "      <td>2022-07-15</td>\n",
       "      <td>Prawns</td>\n",
       "      <td>1</td>\n",
       "      <td>Malappuram</td>\n",
       "    </tr>\n",
       "  </tbody>\n",
       "</table>\n",
       "<p>103 rows × 4 columns</p>\n",
       "</div>"
      ],
      "text/plain": [
       "          DATE DESCRIPTION  UNIT            PLACE\n",
       "0   2022-04-01        Beef     1      Kolenchery \n",
       "1   2022-04-01        Fish     1      Kolenchery \n",
       "2   2022-04-03        Beef     2    Tripunithura \n",
       "3   2022-04-05      Prawns     1       Bangalore \n",
       "4   2022-04-06  Dry fruits     1        Mangalore\n",
       "..         ...         ...   ...              ...\n",
       "98  2022-07-05      Prawns     4       Malappuram\n",
       "99  2022-07-08        Beef     1            Eloor\n",
       "100 2022-07-15        Beef     1            Eloor\n",
       "101 2022-07-15       Lemon     1  Bangalore to us\n",
       "102 2022-07-15      Prawns     1       Malappuram\n",
       "\n",
       "[103 rows x 4 columns]"
      ]
     },
     "execution_count": 185,
     "metadata": {},
     "output_type": "execute_result"
    }
   ],
   "source": [
    "data"
   ]
  },
  {
   "cell_type": "markdown",
   "id": "bd011226",
   "metadata": {},
   "source": [
    "### data visulization"
   ]
  },
  {
   "cell_type": "code",
   "execution_count": 217,
   "id": "78bfc0a0",
   "metadata": {},
   "outputs": [
    {
     "name": "stderr",
     "output_type": "stream",
     "text": [
      "C:\\Users\\Pratheek\\AppData\\Local\\Temp\\ipykernel_6912\\3684863544.py:2: SettingWithCopyWarning: \n",
      "A value is trying to be set on a copy of a slice from a DataFrame\n",
      "\n",
      "See the caveats in the documentation: https://pandas.pydata.org/pandas-docs/stable/user_guide/indexing.html#returning-a-view-versus-a-copy\n",
      "  df_beef.sort_values([\"UNIT\"],ascending=False,axis=0,inplace=True)\n"
     ]
    }
   ],
   "source": [
    "# creating the sub dataframe only the detail of beef\n",
    "df_beef=data[data[\"DESCRIPTION\"]==\"Beef\"]\n",
    "df_beef.sort_values([\"UNIT\"],ascending=False,axis=0,inplace=True)\n",
    "df_beef.head()\n",
    "df_beef10=df_beef.head(10)\n"
   ]
  },
  {
   "cell_type": "code",
   "execution_count": 216,
   "id": "4c288d20",
   "metadata": {},
   "outputs": [
    {
     "data": {
      "image/png": "[encoded data removed]",
      "text/plain": [
       "<Figure size 720x432 with 1 Axes>"
      ]
     },
     "metadata": {
      "needs_background": "light"
     },
     "output_type": "display_data"
    }
   ],
   "source": [
    "#ploting the graph represent the sales of the beef in top 8 place\n",
    "beef=df_beef10.groupby(\"PLACE\")[\"UNIT\"].sum()\n",
    "plt.figure(figsize=(10,6))\n",
    "beef.plot(kind=\"bar\",title=\"Sales of the Beef in top 8 place\",legend=False,color=\"r\")\n",
    "plt.xlabel(\"Place\")\n",
    "plt.ylabel(\"unit\")\n",
    "plt.show()\n"
   ]
  },
  {
   "cell_type": "markdown",
   "id": "e2920df2",
   "metadata": {},
   "source": [
    "####  The above graph represent the sales of beef in top 8 place. In this we observed that Kottayam place has highest demand."
   ]
  },
  {
   "cell_type": "code",
   "execution_count": 270,
   "id": "5bc340a9",
   "metadata": {},
   "outputs": [
    {
     "name": "stderr",
     "output_type": "stream",
     "text": [
      "C:\\Users\\Pratheek\\AppData\\Local\\Temp\\ipykernel_6912\\3642441264.py:2: SettingWithCopyWarning: \n",
      "A value is trying to be set on a copy of a slice from a DataFrame\n",
      "\n",
      "See the caveats in the documentation: https://pandas.pydata.org/pandas-docs/stable/user_guide/indexing.html#returning-a-view-versus-a-copy\n",
      "  df_dryfruits.sort_values([\"UNIT\"],ascending=False,axis=0,inplace=True)\n"
     ]
    }
   ],
   "source": [
    "# creating the sub dataframe only the detail of dry fruits\n",
    "df_dryfruits=data[data[\"DESCRIPTION\"]==\"Dry fruits\"]\n",
    "df_dryfruits.sort_values([\"UNIT\"],ascending=False,axis=0,inplace=True)\n",
    "df_dryfruits.head()\n",
    "df_dryfruits10=df_dryfruits.head(10)"
   ]
  },
  {
   "cell_type": "code",
   "execution_count": 275,
   "id": "2587762b",
   "metadata": {},
   "outputs": [
    {
     "data": {
      "image/png": "[encoded data removed]",
      "text/plain": [
       "<Figure size 720x432 with 1 Axes>"
      ]
     },
     "metadata": {
      "needs_background": "light"
     },
     "output_type": "display_data"
    }
   ],
   "source": [
    "#ploting the graph represent the sales of the dry fruits in top 5 place\n",
    "dry_f=df_dryfruits10.groupby(\"PLACE\")[\"UNIT\"].sum()\n",
    "plt.figure(figsize=(10,6))\n",
    "dry_f.plot(kind=\"bar\",title=\"Sales of the dry Fruits in top 5 place\",legend=False,color=\"b\")\n",
    "plt.xlabel(\"Place\")\n",
    "plt.ylabel(\"unit\")\n",
    "plt.show()"
   ]
  },
  {
   "cell_type": "markdown",
   "id": "6105f247",
   "metadata": {},
   "source": [
    "####  The above graph represent the sales of beef in top 5 place. In this we observed that Malappyran,eloor,united-states place has highest demand."
   ]
  },
  {
   "cell_type": "code",
   "execution_count": 244,
   "id": "e499ec37",
   "metadata": {},
   "outputs": [
    {
     "data": {
      "text/html": [
       "<div>\n",
       "<style scoped>\n",
       "    .dataframe tbody tr th:only-of-type {\n",
       "        vertical-align: middle;\n",
       "    }\n",
       "\n",
       "    .dataframe tbody tr th {\n",
       "        vertical-align: top;\n",
       "    }\n",
       "\n",
       "    .dataframe thead th {\n",
       "        text-align: right;\n",
       "    }\n",
       "</style>\n",
       "<table border=\"1\" class=\"dataframe\">\n",
       "  <thead>\n",
       "    <tr style=\"text-align: right;\">\n",
       "      <th></th>\n",
       "      <th></th>\n",
       "      <th>UNIT</th>\n",
       "    </tr>\n",
       "    <tr>\n",
       "      <th>DATE</th>\n",
       "      <th>DESCRIPTION</th>\n",
       "      <th></th>\n",
       "    </tr>\n",
       "  </thead>\n",
       "  <tbody>\n",
       "    <tr>\n",
       "      <th rowspan=\"7\" valign=\"top\">2022-04-30</th>\n",
       "      <th>Beef</th>\n",
       "      <td>20</td>\n",
       "    </tr>\n",
       "    <tr>\n",
       "      <th>Dry fruits</th>\n",
       "      <td>3</td>\n",
       "    </tr>\n",
       "    <tr>\n",
       "      <th>Fish</th>\n",
       "      <td>17</td>\n",
       "    </tr>\n",
       "    <tr>\n",
       "      <th>Kadumanga</th>\n",
       "      <td>1</td>\n",
       "    </tr>\n",
       "    <tr>\n",
       "      <th>Lemon</th>\n",
       "      <td>4</td>\n",
       "    </tr>\n",
       "    <tr>\n",
       "      <th>Mango</th>\n",
       "      <td>7</td>\n",
       "    </tr>\n",
       "    <tr>\n",
       "      <th>Prawns</th>\n",
       "      <td>16</td>\n",
       "    </tr>\n",
       "    <tr>\n",
       "      <th rowspan=\"6\" valign=\"top\">2022-05-31</th>\n",
       "      <th>Beef</th>\n",
       "      <td>16</td>\n",
       "    </tr>\n",
       "    <tr>\n",
       "      <th>Dry fruits</th>\n",
       "      <td>6</td>\n",
       "    </tr>\n",
       "    <tr>\n",
       "      <th>Fish</th>\n",
       "      <td>5</td>\n",
       "    </tr>\n",
       "    <tr>\n",
       "      <th>Lemon</th>\n",
       "      <td>4</td>\n",
       "    </tr>\n",
       "    <tr>\n",
       "      <th>Mango</th>\n",
       "      <td>9</td>\n",
       "    </tr>\n",
       "    <tr>\n",
       "      <th>Prawns</th>\n",
       "      <td>15</td>\n",
       "    </tr>\n",
       "    <tr>\n",
       "      <th rowspan=\"5\" valign=\"top\">2022-06-30</th>\n",
       "      <th>Beef</th>\n",
       "      <td>14</td>\n",
       "    </tr>\n",
       "    <tr>\n",
       "      <th>Dry fruits</th>\n",
       "      <td>2</td>\n",
       "    </tr>\n",
       "    <tr>\n",
       "      <th>Fish</th>\n",
       "      <td>14</td>\n",
       "    </tr>\n",
       "    <tr>\n",
       "      <th>Mango</th>\n",
       "      <td>3</td>\n",
       "    </tr>\n",
       "    <tr>\n",
       "      <th>Prawns</th>\n",
       "      <td>21</td>\n",
       "    </tr>\n",
       "    <tr>\n",
       "      <th rowspan=\"4\" valign=\"top\">2022-07-31</th>\n",
       "      <th>Beef</th>\n",
       "      <td>2</td>\n",
       "    </tr>\n",
       "    <tr>\n",
       "      <th>Fish</th>\n",
       "      <td>2</td>\n",
       "    </tr>\n",
       "    <tr>\n",
       "      <th>Lemon</th>\n",
       "      <td>5</td>\n",
       "    </tr>\n",
       "    <tr>\n",
       "      <th>Prawns</th>\n",
       "      <td>5</td>\n",
       "    </tr>\n",
       "  </tbody>\n",
       "</table>\n",
       "</div>"
      ],
      "text/plain": [
       "                        UNIT\n",
       "DATE       DESCRIPTION      \n",
       "2022-04-30 Beef           20\n",
       "           Dry fruits      3\n",
       "           Fish           17\n",
       "           Kadumanga       1\n",
       "           Lemon           4\n",
       "           Mango           7\n",
       "           Prawns         16\n",
       "2022-05-31 Beef           16\n",
       "           Dry fruits      6\n",
       "           Fish            5\n",
       "           Lemon           4\n",
       "           Mango           9\n",
       "           Prawns         15\n",
       "2022-06-30 Beef           14\n",
       "           Dry fruits      2\n",
       "           Fish           14\n",
       "           Mango           3\n",
       "           Prawns         21\n",
       "2022-07-31 Beef            2\n",
       "           Fish            2\n",
       "           Lemon           5\n",
       "           Prawns          5"
      ]
     },
     "execution_count": 244,
     "metadata": {},
     "output_type": "execute_result"
    }
   ],
   "source": [
    "#grouping the date per month and decription to know sales of description per month\n",
    "#data1=data.set_index(\"DATE\")\n",
    "df2=data.groupby([pd.Grouper(key=\"DATE\",freq=\"M\"),\"DESCRIPTION\"]).agg({\"UNIT\":\"sum\"})\n",
    "df2\n"
   ]
  },
  {
   "cell_type": "code",
   "execution_count": 266,
   "id": "e52ed73c",
   "metadata": {},
   "outputs": [
    {
     "data": {
      "text/html": [
       "<div>\n",
       "<style scoped>\n",
       "    .dataframe tbody tr th:only-of-type {\n",
       "        vertical-align: middle;\n",
       "    }\n",
       "\n",
       "    .dataframe tbody tr th {\n",
       "        vertical-align: top;\n",
       "    }\n",
       "\n",
       "    .dataframe thead th {\n",
       "        text-align: right;\n",
       "    }\n",
       "</style>\n",
       "<table border=\"1\" class=\"dataframe\">\n",
       "  <thead>\n",
       "    <tr style=\"text-align: right;\">\n",
       "      <th></th>\n",
       "      <th>UNIT</th>\n",
       "    </tr>\n",
       "    <tr>\n",
       "      <th>DATE</th>\n",
       "      <th></th>\n",
       "    </tr>\n",
       "  </thead>\n",
       "  <tbody>\n",
       "    <tr>\n",
       "      <th>2022-04-30</th>\n",
       "      <td>68</td>\n",
       "    </tr>\n",
       "    <tr>\n",
       "      <th>2022-05-31</th>\n",
       "      <td>55</td>\n",
       "    </tr>\n",
       "    <tr>\n",
       "      <th>2022-06-30</th>\n",
       "      <td>54</td>\n",
       "    </tr>\n",
       "    <tr>\n",
       "      <th>2022-07-31</th>\n",
       "      <td>14</td>\n",
       "    </tr>\n",
       "  </tbody>\n",
       "</table>\n",
       "</div>"
      ],
      "text/plain": [
       "            UNIT\n",
       "DATE            \n",
       "2022-04-30    68\n",
       "2022-05-31    55\n",
       "2022-06-30    54\n",
       "2022-07-31    14"
      ]
     },
     "execution_count": 266,
     "metadata": {},
     "output_type": "execute_result"
    }
   ],
   "source": [
    "# grouping the date per month to know the overall sales of description per month.\n",
    "df2=data.groupby(pd.Grouper(key=\"DATE\",freq=\"M\")).agg({\"UNIT\":\"sum\"})\n",
    "df2"
   ]
  },
  {
   "cell_type": "code",
   "execution_count": 277,
   "id": "0084bbb2",
   "metadata": {},
   "outputs": [
    {
     "data": {
      "image/png": "[encoded data removed]",
      "text/plain": [
       "<Figure size 432x288 with 1 Axes>"
      ]
     },
     "metadata": {},
     "output_type": "display_data"
    }
   ],
   "source": [
    "# from above data ploting the pie chart in percentage(%)\n",
    "date=[\"April\",\"May\",\"June\",\"July\"]\n",
    "unit=[68,55,54,14]\n",
    "plt.axis(\"equal\")\n",
    "plt.pie(unit,labels=date,autopct=\"%1.1f%%\")\n",
    "plt.legend(date)\n",
    "plt.title(\"Overall sales of the description per month\")\n",
    "plt.show()"
   ]
  },
  {
   "cell_type": "markdown",
   "id": "22b2e0ba",
   "metadata": {},
   "source": [
    "#### The above graph represent the overall sales of the description per month. From this graph we observed that more sales in month of april."
   ]
  },
  {
   "cell_type": "code",
   "execution_count": 203,
   "id": "46eb8cda",
   "metadata": {},
   "outputs": [],
   "source": [
    "# summing the vaue of unit based on description\n",
    "df1=data.groupby(\"DESCRIPTION\").agg({\"UNIT\":\"sum\"})"
   ]
  },
  {
   "cell_type": "code",
   "execution_count": 201,
   "id": "28b535ea",
   "metadata": {},
   "outputs": [
    {
     "data": {
      "text/plain": [
       "<Figure size 864x576 with 0 Axes>"
      ]
     },
     "metadata": {},
     "output_type": "display_data"
    },
    {
     "data": {
      "image/png": "[encoded data removed]",
      "text/plain": [
       "<Figure size 432x288 with 1 Axes>"
      ]
     },
     "metadata": {
      "needs_background": "light"
     },
     "output_type": "display_data"
    }
   ],
   "source": [
    "#ploting the horizontal bar graph, to know overall sales of description\n",
    "plt.figure(figsize=(12,8))\n",
    "df1.plot(kind=\"barh\",title=\"Sales of the Description\",legend=False)\n",
    "plt.xlabel(\"Unit\")\n",
    "plt.ylabel(\"DESCRIPTION\")\n",
    "plt.show()\n"
   ]
  },
  {
   "cell_type": "markdown",
   "id": "f714da2a",
   "metadata": {},
   "source": [
    "#### The above graph represent the overall sales of the description. From this graph we observed that more sales was prawns."
   ]
  },
  {
   "cell_type": "code",
   "execution_count": null,
   "id": "87fc8cb4",
   "metadata": {},
   "outputs": [],
   "source": []
  }
 ],
 "metadata": {
  "kernelspec": {
   "display_name": "Python 3 (ipykernel)",
   "language": "python",
   "name": "python3"
  },
  "language_info": {
   "codemirror_mode": {
    "name": "ipython",
    "version": 3
   },
   "file_extension": ".py",
   "mimetype": "text/x-python",
   "name": "python",
   "nbconvert_exporter": "python",
   "pygments_lexer": "ipython3",
   "version": "3.9.12"
  }
 },
 "nbformat": 4,
 "nbformat_minor": 5
}
